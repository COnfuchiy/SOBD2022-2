{
 "cells": [
  {
   "cell_type": "markdown",
   "id": "b495c4f1-e7b2-4495-b10e-e7cbaff3f6fd",
   "metadata": {},
   "source": [
    "Лабораторная работа №2 - 1 "
   ]
  },
  {
   "cell_type": "code",
   "execution_count": 1,
   "id": "4ba7c537-bc1c-425b-9a9d-79d4da95a462",
   "metadata": {},
   "outputs": [
    {
     "name": "stdout",
     "output_type": "stream",
     "text": [
      "+-------------+-----+------+----+-------------+-------------+---------+------------+-----------+\n",
      "|           id|price| miles|year|         make|        model|body_type|transmission|engine_size|\n",
      "+-------------+-----+------+----+-------------+-------------+---------+------------+-----------+\n",
      "|38b2f52e-8f5d|20998|115879|2015|    Chevrolet|Express Cargo|Cargo Van|   Automatic|        4.8|\n",
      "|97ba4955-ccf0|27921|  7339|2018|          BMW|           i3|Hatchback|   Automatic|        0.6|\n",
      "|be1da9fd-0f34|11055| 39798|2018|   Mitsubishi|    Mirage G4|    Sedan|   Automatic|        1.2|\n",
      "|84327e45-6cb6|52997| 28568|2019|    Chevrolet|     Colorado|   Pickup|   Automatic|        2.8|\n",
      "|43847b9a-6fed| 3995|137537|2000|        Dodge|   Ram Pickup|   Pickup|      Manual|        5.2|\n",
      "|8d10256f-3be9| 6500| 74274|2010|    Chevrolet|          HHR| Mini Mpv|   Automatic|        2.2|\n",
      "|3c539e0f-3eb8|23024|131286|2016|    Chevrolet|     Colorado|   Pickup|   Automatic|        2.8|\n",
      "|dffc4e35-48e7|16995|110615|2011|Mercedes-Benz|    CLS-Class|    Coupe|   Automatic|        5.5|\n",
      "|fbdcf712-82d5| 5870|144159|2004|    Chevrolet|  TrailBlazer|      SUV|   Automatic|        4.2|\n",
      "|e9582e90-0828|27999| 60122|2008|     Maserati|  GranTurismo|    Coupe|   Automatic|        4.2|\n",
      "+-------------+-----+------+----+-------------+-------------+---------+------------+-----------+\n",
      "only showing top 10 rows\n",
      "\n"
     ]
    }
   ],
   "source": [
    "from pyspark.sql.types import *\n",
    "from pyspark.sql.functions import *\n",
    "from pyspark.sql import SparkSession\n",
    "\n",
    "from pyspark.ml import Pipeline\n",
    "from pyspark.ml.feature import VectorAssembler, StringIndexer, VectorIndexer, MinMaxScaler\n",
    "from pyspark.ml.regression import LinearRegression\n",
    "from pyspark.ml.tuning import ParamGridBuilder, CrossValidator\n",
    "from pyspark.ml.evaluation import RegressionEvaluator\n",
    "\n",
    "spark = SparkSession.builder.master(\"local[*]\").getOrCreate()\n",
    "filename_data = 'us-dealers-used-cleaned.csv'\n",
    "csv = spark.read.csv(filename_data, inferSchema=True, header=True)\n",
    "csv = csv.withColumn('miles', csv.miles.cast(IntegerType()))\n",
    "csv.show(10)"
   ]
  },
  {
   "cell_type": "code",
   "execution_count": 2,
   "id": "ad6c0356-bf73-4d9f-9d6b-eae444416fd9",
   "metadata": {},
   "outputs": [
    {
     "name": "stdout",
     "output_type": "stream",
     "text": [
      "Training Rows: 1607404  Testing Rows: 688792\n"
     ]
    }
   ],
   "source": [
    "splits = csv.randomSplit([0.7, 0.3])\n",
    "train = splits[0]\n",
    "test = splits[1].withColumnRenamed(\"price\", \"truePrice\")\n",
    "train_rows = train.count()\n",
    "test_rows = test.count()\n",
    "print(\"Training Rows:\", train_rows, \" Testing Rows:\", test_rows)"
   ]
  },
  {
   "cell_type": "code",
   "execution_count": 3,
   "id": "5dcaae54-6ffe-473f-84f9-00f7c5162f9a",
   "metadata": {},
   "outputs": [],
   "source": [
    "strIdx = StringIndexer(inputCols = ['make', 'model', 'body_type','transmission'], \n",
    "                       outputCols = ['make_index', 'model_index', 'body_type_index', 'transmission_index'], \n",
    "                       handleInvalid = \"keep\")\n",
    "catVect = VectorAssembler(inputCols = ['make_index', 'model_index', 'body_type_index','transmission_index'], \n",
    "                          outputCol=\"features_cat\")\n",
    "catIdx = VectorIndexer(inputCol = catVect.getOutputCol(), \n",
    "                       outputCol = \"features_index\", \n",
    "                       handleInvalid = \"keep\")\n",
    "numVect = VectorAssembler(inputCols = [\"engine_size\",'miles'], \n",
    "                          outputCol=\"features_num\", \n",
    "                          handleInvalid = \"keep\")\n",
    "minMax = MinMaxScaler(inputCol = numVect.getOutputCol(), \n",
    "                      outputCol=\"features_norm\")\n",
    "featVect = VectorAssembler(inputCols=[\"features_index\", \"features_norm\"], \n",
    "                           outputCol=\"features\", \n",
    "                           handleInvalid = \"keep\")\n",
    "lr = LinearRegression(featuresCol = 'features', \n",
    "                      labelCol='price', \n",
    "                      maxIter=10, \n",
    "                      regParam=0.3, \n",
    "                      elasticNetParam=0.8)\n",
    "pipeline = Pipeline(stages=[strIdx, catVect, catIdx, numVect, minMax, featVect, lr])"
   ]
  },
  {
   "cell_type": "code",
   "execution_count": 4,
   "id": "9ee135e1-cd95-45e2-ad7d-ddab1d9e386c",
   "metadata": {},
   "outputs": [],
   "source": [
    "pipelineModel = pipeline.fit(train)"
   ]
  },
  {
   "cell_type": "code",
   "execution_count": 5,
   "id": "3aac4c1e-1e35-424b-ae44-007e0e014cca",
   "metadata": {},
   "outputs": [
    {
     "name": "stdout",
     "output_type": "stream",
     "text": [
      "+--------------------+------------------+---------+\n",
      "|            features|        prediction|truePrice|\n",
      "+--------------------+------------------+---------+\n",
      "|[21.0,85.0,0.0,0....|32377.773150161076|    43997|\n",
      "|[5.0,16.0,0.0,0.0...| 29764.23458282672|    25999|\n",
      "|[1.0,10.0,1.0,0.0...|21590.414538826146|    18491|\n",
      "|[0.0,22.0,1.0,0.0...| 19981.94686854893|    12999|\n",
      "|[26.0,100.0,4.0,1...| 25157.98761059677|    27993|\n",
      "|[29.0,146.0,0.0,1...|  31129.0693842735|    54873|\n",
      "|[0.0,0.0,2.0,0.0,...| 24035.75080278493|    27990|\n",
      "|[14.0,56.0,0.0,0....|  21032.2452135954|    17944|\n",
      "|[5.0,43.0,0.0,0.0...|29325.670086563667|    21995|\n",
      "|[14.0,57.0,0.0,0....| 24867.92754636355|    29289|\n",
      "|[4.0,6.0,3.0,0.0,...| 13160.78566134814|    16988|\n",
      "|[9.0,59.0,0.0,0.0...|24559.122671455534|    34490|\n",
      "|[10.0,186.0,4.0,0...| 4579.998900574454|     7495|\n",
      "|[2.0,3.0,0.0,0.0,...|20572.826375476154|    22749|\n",
      "|[10.0,31.0,0.0,0....|29873.409730857184|    30584|\n",
      "|[6.0,28.0,0.0,0.0...|25001.958227539213|    35295|\n",
      "|[3.0,1.0,0.0,0.0,...|28346.505209775045|    23998|\n",
      "|[0.0,14.0,0.0,0.0...| 32889.92908039901|    31995|\n",
      "|[3.0,5.0,1.0,0.0,...|14545.467656888397|    13995|\n",
      "|[27.0,124.0,0.0,0...|12435.908561806702|     9999|\n",
      "+--------------------+------------------+---------+\n",
      "only showing top 20 rows\n",
      "\n"
     ]
    }
   ],
   "source": [
    "pred_df = pipelineModel.transform(test)\n",
    "pred_df.select(\"features\", \"prediction\", \"truePrice\").show()"
   ]
  },
  {
   "cell_type": "code",
   "execution_count": 6,
   "id": "b8b63270-d1d2-4ad4-ae84-8d554457241a",
   "metadata": {},
   "outputs": [],
   "source": [
    "from pyspark.ml.evaluation import RegressionEvaluator\n",
    "\n",
    "regressionEvaluator = RegressionEvaluator(predictionCol=\"prediction\", labelCol=\"truePrice\", metricName=\"rmse\")"
   ]
  },
  {
   "cell_type": "code",
   "execution_count": 7,
   "id": "701c4865-214f-46d9-b57c-701cdd6d150b",
   "metadata": {},
   "outputs": [
    {
     "name": "stdout",
     "output_type": "stream",
     "text": [
      "The RMSE for the linear regression model is 7559.14\n",
      "The MSE for the linear regression model is 57140578.32\n",
      "The R2 for the linear regression model is 0.52\n",
      "The MAE for the linear regression model is 5805.28\n"
     ]
    }
   ],
   "source": [
    "# RMSE\n",
    "rmse = regressionEvaluator.evaluate(pred_df)\n",
    "print(f\"The RMSE for the linear regression model is {rmse:0.2f}\")\n",
    "# MSE\n",
    "mse = regressionEvaluator.setMetricName(\"mse\").evaluate(pred_df)\n",
    "print(f\"The MSE for the linear regression model is {mse:0.2f}\")\n",
    "# R2\n",
    "r2 = regressionEvaluator.setMetricName(\"r2\").evaluate(pred_df)\n",
    "print(f\"The R2 for the linear regression model is {r2:0.2f}\")\n",
    "# MAE\n",
    "mae = regressionEvaluator.setMetricName(\"mae\").evaluate(pred_df)\n",
    "print(f\"The MAE for the linear regression model is {mae:0.2f}\")"
   ]
  },
  {
   "cell_type": "code",
   "execution_count": 16,
   "id": "b6e767fb-aa79-4b7a-ac1c-e9b1acd5e315",
   "metadata": {},
   "outputs": [],
   "source": [
    "param_grid = ParamGridBuilder().\\\n",
    "    addGrid(lr.regParam, [0.1, 0.4, 0.9]).\\\n",
    "    addGrid(lr.maxIter, [10, 20, 30]).\\\n",
    "    addGrid(lr.solver, ['auto', 'normal', 'l-bfgs']).\\\n",
    "    build()"
   ]
  },
  {
   "cell_type": "code",
   "execution_count": 17,
   "id": "3cab03ad-7a23-4728-8b5c-63254773ae8d",
   "metadata": {},
   "outputs": [],
   "source": [
    "cv = CrossValidator(estimator=pipeline, \\\n",
    "                    estimatorParamMaps=param_grid, \\\n",
    "                    evaluator=RegressionEvaluator(\n",
    "                                predictionCol=\"prediction\", \\\n",
    "                                labelCol=\"price\", \\\n",
    "                                metricName=\"rmse\"), \\\n",
    "                    numFolds=2)"
   ]
  },
  {
   "cell_type": "code",
   "execution_count": 18,
   "id": "849afcab-867a-4b3b-b5d4-c3564633af60",
   "metadata": {},
   "outputs": [],
   "source": [
    "cv_model = cv.fit(train)"
   ]
  },
  {
   "cell_type": "code",
   "execution_count": 19,
   "id": "badb73f8-552c-44b0-b0e2-5564efd12e76",
   "metadata": {},
   "outputs": [],
   "source": [
    "newPrediction = cv_model.transform(test)"
   ]
  },
  {
   "cell_type": "code",
   "execution_count": 20,
   "id": "e5b7f96b-fc72-4945-bcf6-6713d1e80635",
   "metadata": {},
   "outputs": [
    {
     "name": "stdout",
     "output_type": "stream",
     "text": [
      "The RMSE for the linear regression model is 5805.28\n",
      "The MSE for the linear regression model is 57140580.58\n",
      "The R2 for the linear regression model is 0.52\n",
      "The MAE for the linear regression model is 5805.28\n"
     ]
    }
   ],
   "source": [
    "# RMSE\n",
    "rmse = regressionEvaluator.evaluate(newPrediction)\n",
    "print(f\"The RMSE for the linear regression model is {rmse:0.2f}\")\n",
    "# MSE\n",
    "mse = regressionEvaluator.setMetricName(\"mse\").evaluate(newPrediction)\n",
    "print(f\"The MSE for the linear regression model is {mse:0.2f}\")\n",
    "# R2\n",
    "r2 = regressionEvaluator.setMetricName(\"r2\").evaluate(newPrediction)\n",
    "print(f\"The R2 for the linear regression model is {r2:0.2f}\")\n",
    "# MAE\n",
    "mae = regressionEvaluator.setMetricName(\"mae\").evaluate(newPrediction)\n",
    "print(f\"The MAE for the linear regression model is {mae:0.2f}\")"
   ]
  },
  {
   "cell_type": "code",
   "execution_count": null,
   "id": "910ebdd3-eb39-4727-a552-8d323f298118",
   "metadata": {},
   "outputs": [],
   "source": []
  }
 ],
 "metadata": {
  "kernelspec": {
   "display_name": "Python 3 (ipykernel)",
   "language": "python",
   "name": "python3"
  },
  "language_info": {
   "codemirror_mode": {
    "name": "ipython",
    "version": 3
   },
   "file_extension": ".py",
   "mimetype": "text/x-python",
   "name": "python",
   "nbconvert_exporter": "python",
   "pygments_lexer": "ipython3",
   "version": "3.10.6"
  }
 },
 "nbformat": 4,
 "nbformat_minor": 5
}
